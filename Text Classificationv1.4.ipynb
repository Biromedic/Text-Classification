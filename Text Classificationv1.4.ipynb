{
  "cells": [
    {
      "cell_type": "code",
      "execution_count": 2,
      "metadata": {
        "colab": {
          "base_uri": "https://localhost:8080/"
        },
        "id": "WZ4XpOCA_sVo",
        "outputId": "f2360b40-2367-484a-8f9c-36990ef43a69"
      },
      "outputs": [
        {
          "name": "stdout",
          "output_type": "stream",
          "text": [
            "Drive already mounted at /content/drive; to attempt to forcibly remount, call drive.mount(\"/content/drive\", force_remount=True).\n"
          ]
        }
      ],
      "source": [
        "from google.colab import drive\n",
        "import os\n",
        "drive.mount('/content/drive')\n",
        "base_path = \"/content/drive/MyDrive/4475\"\n",
        "articles_path = os.path.join(base_path, 'makaleler-yazarlar')"
      ]
    },
    {
      "cell_type": "code",
      "execution_count": 3,
      "metadata": {
        "id": "XOl6TDeRaCfw"
      },
      "outputs": [],
      "source": [
        "import pandas as pd\n",
        "import re\n",
        "import torch\n",
        "from sklearn.model_selection import KFold\n",
        "from sklearn.metrics import classification_report\n",
        "from torch.utils.data import DataLoader, Dataset\n",
        "from transformers import BertTokenizer, BertForSequenceClassification, get_scheduler\n",
        "from torch.nn import Dropout, Linear, CrossEntropyLoss\n",
        "from torch.optim import AdamW"
      ]
    },
    {
      "cell_type": "code",
      "execution_count": 4,
      "metadata": {
        "colab": {
          "base_uri": "https://localhost:8080/"
        },
        "id": "iJ78lzfTAAJ5",
        "outputId": "a26b059c-3f64-4a12-a79d-c11c33243ab9"
      },
      "outputs": [
        {
          "name": "stdout",
          "output_type": "stream",
          "text": [
            "Using device: cuda\n",
            "Device name: Tesla T4\n"
          ]
        }
      ],
      "source": [
        "device = torch.device(\"cuda\" if torch.cuda.is_available() else \"cpu\")\n",
        "print(f\"Using device: {device}\")\n",
        "if device.type == \"cuda\":\n",
        "    print(f\"Device name: {torch.cuda.get_device_name(0)}\")"
      ]
    },
    {
      "cell_type": "markdown",
      "metadata": {
        "id": "09MsB1MaaUbN"
      },
      "source": [
        "# Read Data"
      ]
    },
    {
      "cell_type": "code",
      "execution_count": 5,
      "metadata": {
        "colab": {
          "base_uri": "https://localhost:8080/"
        },
        "id": "YzsznOve0JFg",
        "outputId": "346ee704-28ee-419b-8c11-755492c0fc52"
      },
      "outputs": [
        {
          "name": "stdout",
          "output_type": "stream",
          "text": [
            "Loaded 1500 articles.\n"
          ]
        }
      ],
      "source": [
        "data = []\n",
        "for author in os.listdir(articles_path):\n",
        "    author_folder = os.path.join(articles_path, author)\n",
        "    if os.path.isdir(author_folder):\n",
        "        for file_name in os.listdir(author_folder):\n",
        "            file_path = os.path.join(author_folder, file_name)\n",
        "            with open(file_path, 'r', encoding='ISO-8859-9') as f:\n",
        "                text = f.read()\n",
        "                data.append({\"author\": author, \"text\": text})\n",
        "\n",
        "df = pd.DataFrame(data)\n",
        "df['author_label'] = df['author'].astype('category').cat.codes\n",
        "print(f\"Loaded {len(data)} articles.\")"
      ]
    },
    {
      "cell_type": "markdown",
      "metadata": {
        "id": "UOShzhgxbRYe"
      },
      "source": [
        "## Clean Text(just spaces)"
      ]
    },
    {
      "cell_type": "code",
      "execution_count": 6,
      "metadata": {
        "id": "VqhYOk8NDXUC"
      },
      "outputs": [],
      "source": [
        "def clean_text(text):\n",
        "    text = re.sub(r'\\s+', ' ', text).strip()  # Gereksiz boşlukları temizle\n",
        "    return text\n",
        "\n",
        "df['cleaned_text'] = df['text'].apply(clean_text)\n"
      ]
    },
    {
      "cell_type": "markdown",
      "metadata": {
        "id": "wDqyo1_CD4Lq"
      },
      "source": [
        "## Tokenizer"
      ]
    },
    {
      "cell_type": "code",
      "execution_count": 7,
      "metadata": {
        "colab": {
          "base_uri": "https://localhost:8080/",
          "height": 240,
          "referenced_widgets": [
            "41b10fefc73f427b963ddd9b3c002e53",
            "9aeda67e79bd480b83cc89007e902e3e",
            "b93b6992689746e696f876c812006ebc",
            "16fe4fb509b04b67b3f7a106c63b0247",
            "3769b0a70509468488bcbdc53664e2b8",
            "3e31fcf31bd043dbb1f6d6931dae1181",
            "cdcaf921f20349f49c8eebbbe16cf9c3",
            "2d190f96f84c4b46bf3dbe4447c482df",
            "3432ca247a084212adfd0d93d16876df",
            "b78f1bbf8f6d401d8c0e926644c5f0b9",
            "19afb68743064aefb0a9481c27636201",
            "fb9b457ea0f449198d9596e8be4d400a",
            "5664667bb6104b87aa2546e52bf4c7da",
            "181e5497320b41cbadfe6499ed731655",
            "b1a1dc9d4f994e1c83fd84c1d074040e",
            "d9bdf1f000d14d83bbfb2832b61d2526",
            "e806ae1ed6ab44ec9b299957ac37209f",
            "538baf9f34ab4ef184ae11635cb42e69",
            "9156c0c3452e4a6bbb35a4ce9221e0b8",
            "42094a3f82ba498b94b1dfa68a0c2a47",
            "c79507ed81d744c89cd89accf65b71c3",
            "d6c73e194b7c46e6a6c9a656b006f3bf",
            "091c43701f054c03bac534a1cec71d44",
            "d0fc3c40a86448ab92a3f7c5c7317833",
            "2ea8c52b3dea4512a28e8ec55260777e",
            "aaf0634cfcac40349a4909dacddaaeb2",
            "41e1191421814d27b35b0089cace8f0c",
            "100cd81e0b304c068746460c270aba39",
            "8dbbd61481484052a4e5ddd31a6838e5",
            "38702054ab8e46a79f392105b2ba7045",
            "df1c8d5955b4464d853457c02e4ddc0e",
            "c458b88ab544465e9a0d800638f36143",
            "ba97241e8d744d7eb0e0e9fb13095982"
          ]
        },
        "id": "-qF7KMwibezG",
        "outputId": "8968f53a-aa0d-49dc-fc0c-9c6536b29f6d"
      },
      "outputs": [
        {
          "name": "stderr",
          "output_type": "stream",
          "text": [
            "/usr/local/lib/python3.11/dist-packages/huggingface_hub/utils/_auth.py:94: UserWarning: \n",
            "The secret `HF_TOKEN` does not exist in your Colab secrets.\n",
            "To authenticate with the Hugging Face Hub, create a token in your settings tab (https://huggingface.co/settings/tokens), set it as secret in your Google Colab and restart your session.\n",
            "You will be able to reuse this secret in all of your notebooks.\n",
            "Please note that authentication is recommended but still optional to access public models or datasets.\n",
            "  warnings.warn(\n"
          ]
        },
        {
          "data": {
            "application/vnd.jupyter.widget-view+json": {
              "model_id": "41b10fefc73f427b963ddd9b3c002e53",
              "version_major": 2,
              "version_minor": 0
            },
            "text/plain": [
              "tokenizer_config.json:   0%|          | 0.00/60.0 [00:00<?, ?B/s]"
            ]
          },
          "metadata": {},
          "output_type": "display_data"
        },
        {
          "data": {
            "application/vnd.jupyter.widget-view+json": {
              "model_id": "fb9b457ea0f449198d9596e8be4d400a",
              "version_major": 2,
              "version_minor": 0
            },
            "text/plain": [
              "vocab.txt:   0%|          | 0.00/251k [00:00<?, ?B/s]"
            ]
          },
          "metadata": {},
          "output_type": "display_data"
        },
        {
          "data": {
            "application/vnd.jupyter.widget-view+json": {
              "model_id": "091c43701f054c03bac534a1cec71d44",
              "version_major": 2,
              "version_minor": 0
            },
            "text/plain": [
              "config.json:   0%|          | 0.00/385 [00:00<?, ?B/s]"
            ]
          },
          "metadata": {},
          "output_type": "display_data"
        }
      ],
      "source": [
        "# Tokenizer\n",
        "tokenizer = BertTokenizer.from_pretrained(\"dbmdz/bert-base-turkish-cased\")"
      ]
    },
    {
      "cell_type": "markdown",
      "metadata": {
        "id": "2zCr4U66bsA0"
      },
      "source": [
        "# Dataset"
      ]
    },
    {
      "cell_type": "code",
      "execution_count": 8,
      "metadata": {
        "id": "s1H1rvpRbzby"
      },
      "outputs": [],
      "source": [
        "class TextDataset(Dataset):\n",
        "    def __init__(self, texts, labels):\n",
        "        self.texts = texts\n",
        "        self.labels = labels\n",
        "\n",
        "    def __len__(self):\n",
        "        return len(self.texts)\n",
        "\n",
        "    def __getitem__(self, idx):\n",
        "        encoding = tokenizer(\n",
        "            self.texts[idx],\n",
        "            padding=\"max_length\",\n",
        "            truncation=True,\n",
        "            max_length=512,\n",
        "            return_tensors=\"pt\",\n",
        "        )\n",
        "        return {key: val.squeeze(0) for key, val in encoding.items()}, torch.tensor(self.labels[idx])\n"
      ]
    },
    {
      "cell_type": "markdown",
      "metadata": {
        "id": "O1nPIqDOb6bf"
      },
      "source": [
        "## Model"
      ]
    },
    {
      "cell_type": "code",
      "execution_count": 9,
      "metadata": {
        "id": "yIVuT0yjb8G2"
      },
      "outputs": [],
      "source": [
        "def create_model(num_labels):\n",
        "    model = BertForSequenceClassification.from_pretrained(\"dbmdz/bert-base-turkish-cased\", num_labels=num_labels)\n",
        "    model.classifier = torch.nn.Sequential(\n",
        "        Dropout(0.4),\n",
        "        Linear(model.config.hidden_size, num_labels)\n",
        "    )\n",
        "    return model.to(device)"
      ]
    },
    {
      "cell_type": "code",
      "execution_count": 10,
      "metadata": {
        "colab": {
          "base_uri": "https://localhost:8080/",
          "height": 123,
          "referenced_widgets": [
            "a49500d13b3d4523bc367e1d73765243",
            "c035a697d5b84653834bb2b633e55aae",
            "829c3df32fd2436896f94e64de06d369",
            "e6bb241bbc964bb887e55d5d15200fcd",
            "30d9468de7f842719bcc24c1fe191cd0",
            "bdbccd55a21641b48809821dc325a931",
            "81b04c43145040008165fab494e3e2a6",
            "1603c52167c1480182aeba1ed18f587d",
            "fdd90602ce464917a0c81de78d105ba3",
            "724941c1340a48ad8fc5f6425c2de105",
            "b3b8845b2fa947bd96f1c8f68878aee1"
          ]
        },
        "id": "sHEnw6dNDhxN",
        "outputId": "6a29c13c-d8a3-4517-ae63-147694f286e6"
      },
      "outputs": [
        {
          "data": {
            "application/vnd.jupyter.widget-view+json": {
              "model_id": "a49500d13b3d4523bc367e1d73765243",
              "version_major": 2,
              "version_minor": 0
            },
            "text/plain": [
              "model.safetensors:   0%|          | 0.00/445M [00:00<?, ?B/s]"
            ]
          },
          "metadata": {},
          "output_type": "display_data"
        },
        {
          "name": "stderr",
          "output_type": "stream",
          "text": [
            "Some weights of BertForSequenceClassification were not initialized from the model checkpoint at dbmdz/bert-base-turkish-cased and are newly initialized: ['classifier.bias', 'classifier.weight']\n",
            "You should probably TRAIN this model on a down-stream task to be able to use it for predictions and inference.\n"
          ]
        },
        {
          "name": "stdout",
          "output_type": "stream",
          "text": [
            "Model Dropout ile güncellendi.\n"
          ]
        }
      ],
      "source": [
        "# BERT modeli\n",
        "model = BertForSequenceClassification.from_pretrained(\"dbmdz/bert-base-turkish-cased\", num_labels=len(df['author_label'].unique()))\n",
        "\n",
        "# Dropout ekle\n",
        "from torch.nn import Dropout, Linear\n",
        "num_labels = len(df['author_label'].unique())\n",
        "model.classifier = torch.nn.Sequential(\n",
        "    Dropout(0.3),  # Dropout\n",
        "    Linear(model.config.hidden_size, num_labels)\n",
        ")\n",
        "\n",
        "# Modeli GPU'ya taşı\n",
        "device = torch.device(\"cuda\" if torch.cuda.is_available() else \"cpu\")\n",
        "model.to(device)\n",
        "print(\"Model Dropout ile güncellendi.\")\n",
        "\n"
      ]
    },
    {
      "cell_type": "markdown",
      "metadata": {
        "id": "1pG1S5JvcOHN"
      },
      "source": [
        "## Train Model"
      ]
    },
    {
      "cell_type": "code",
      "execution_count": 11,
      "metadata": {
        "id": "tl3BGFfPcPLr"
      },
      "outputs": [],
      "source": [
        "def train_model(model, dataloader, optimizer, scheduler, loss_fn, num_epochs=10, patience=3):\n",
        "    best_loss = float('inf')\n",
        "    no_improvement = 0\n",
        "\n",
        "    for epoch in range(num_epochs):\n",
        "        model.train()\n",
        "        epoch_loss = 0\n",
        "        for batch in dataloader:\n",
        "            inputs, labels = batch\n",
        "            inputs = {key: val.to(device) for key, val in inputs.items()}\n",
        "            labels = labels.to(device)\n",
        "\n",
        "            outputs = model(**inputs)\n",
        "            loss = loss_fn(outputs.logits, labels)\n",
        "            epoch_loss += loss.item()\n",
        "\n",
        "            optimizer.zero_grad()\n",
        "            loss.backward()\n",
        "            optimizer.step()\n",
        "            scheduler.step()\n",
        "\n",
        "        avg_loss = epoch_loss / len(dataloader)\n",
        "        print(f\"Epoch {epoch + 1}: Loss {avg_loss:.4f}\")\n",
        "\n",
        "        if avg_loss < best_loss:\n",
        "            best_loss = avg_loss\n",
        "            no_improvement = 0\n",
        "            print(\"Model improved. Saving model...\")\n",
        "            model.save_pretrained(f\"{base_path}/bert_model_fold_{fold + 1}\")\n",
        "        else:\n",
        "            no_improvement += 1\n",
        "            if no_improvement >= patience:\n",
        "                print(\"Early stopping triggered.\")\n",
        "                break"
      ]
    },
    {
      "cell_type": "code",
      "execution_count": 12,
      "metadata": {
        "id": "qrUDc_NzD9NP"
      },
      "outputs": [],
      "source": [
        "def evaluate_model(model, dataloader):\n",
        "    model.eval()\n",
        "    all_labels, all_preds = [], []\n",
        "\n",
        "    with torch.no_grad():\n",
        "        for batch in dataloader:\n",
        "            inputs, labels = batch\n",
        "            inputs = {key: val.to(device) for key, val in inputs.items()}\n",
        "            labels = labels.to(device)\n",
        "\n",
        "            outputs = model(**inputs)\n",
        "            preds = torch.argmax(outputs.logits, dim=-1)\n",
        "            all_labels.extend(labels.cpu().numpy())\n",
        "            all_preds.extend(preds.cpu().numpy())\n",
        "\n",
        "    return all_labels, all_preds"
      ]
    },
    {
      "cell_type": "code",
      "execution_count": 13,
      "metadata": {
        "colab": {
          "base_uri": "https://localhost:8080/"
        },
        "id": "VFSAvRydcjGT",
        "outputId": "2a17e3e3-611a-4b4e-e0bb-e8a32e52b8be"
      },
      "outputs": [
        {
          "name": "stdout",
          "output_type": "stream",
          "text": [
            "Fold 1\n"
          ]
        },
        {
          "name": "stderr",
          "output_type": "stream",
          "text": [
            "Some weights of BertForSequenceClassification were not initialized from the model checkpoint at dbmdz/bert-base-turkish-cased and are newly initialized: ['classifier.bias', 'classifier.weight']\n",
            "You should probably TRAIN this model on a down-stream task to be able to use it for predictions and inference.\n"
          ]
        },
        {
          "name": "stdout",
          "output_type": "stream",
          "text": [
            "Epoch 1: Loss 3.1147\n",
            "Model improved. Saving model...\n",
            "Epoch 2: Loss 1.5356\n",
            "Model improved. Saving model...\n",
            "Epoch 3: Loss 0.5225\n",
            "Model improved. Saving model...\n",
            "Epoch 4: Loss 0.2050\n",
            "Model improved. Saving model...\n",
            "Epoch 5: Loss 0.0839\n",
            "Model improved. Saving model...\n",
            "Epoch 6: Loss 0.0527\n",
            "Model improved. Saving model...\n",
            "Epoch 7: Loss 0.0391\n",
            "Model improved. Saving model...\n",
            "Epoch 8: Loss 0.0327\n",
            "Model improved. Saving model...\n",
            "Epoch 9: Loss 0.0298\n",
            "Model improved. Saving model...\n",
            "Epoch 10: Loss 0.0274\n",
            "Model improved. Saving model...\n",
            "Fold 2\n"
          ]
        },
        {
          "name": "stderr",
          "output_type": "stream",
          "text": [
            "Some weights of BertForSequenceClassification were not initialized from the model checkpoint at dbmdz/bert-base-turkish-cased and are newly initialized: ['classifier.bias', 'classifier.weight']\n",
            "You should probably TRAIN this model on a down-stream task to be able to use it for predictions and inference.\n"
          ]
        },
        {
          "name": "stdout",
          "output_type": "stream",
          "text": [
            "Epoch 1: Loss 3.0331\n",
            "Model improved. Saving model...\n",
            "Epoch 2: Loss 1.3798\n",
            "Model improved. Saving model...\n",
            "Epoch 3: Loss 0.5212\n",
            "Model improved. Saving model...\n",
            "Epoch 4: Loss 0.1924\n",
            "Model improved. Saving model...\n",
            "Epoch 5: Loss 0.0848\n",
            "Model improved. Saving model...\n",
            "Epoch 6: Loss 0.0505\n",
            "Model improved. Saving model...\n",
            "Epoch 7: Loss 0.0360\n",
            "Model improved. Saving model...\n",
            "Epoch 8: Loss 0.0300\n",
            "Model improved. Saving model...\n",
            "Epoch 9: Loss 0.0267\n",
            "Model improved. Saving model...\n",
            "Epoch 10: Loss 0.0254\n",
            "Model improved. Saving model...\n",
            "Fold 3\n"
          ]
        },
        {
          "name": "stderr",
          "output_type": "stream",
          "text": [
            "Some weights of BertForSequenceClassification were not initialized from the model checkpoint at dbmdz/bert-base-turkish-cased and are newly initialized: ['classifier.bias', 'classifier.weight']\n",
            "You should probably TRAIN this model on a down-stream task to be able to use it for predictions and inference.\n"
          ]
        },
        {
          "name": "stdout",
          "output_type": "stream",
          "text": [
            "Epoch 1: Loss 3.0620\n",
            "Model improved. Saving model...\n",
            "Epoch 2: Loss 1.5594\n",
            "Model improved. Saving model...\n",
            "Epoch 3: Loss 0.5809\n",
            "Model improved. Saving model...\n",
            "Epoch 4: Loss 0.2331\n",
            "Model improved. Saving model...\n",
            "Epoch 5: Loss 0.1011\n",
            "Model improved. Saving model...\n",
            "Epoch 6: Loss 0.0561\n",
            "Model improved. Saving model...\n",
            "Epoch 7: Loss 0.0407\n",
            "Model improved. Saving model...\n",
            "Epoch 8: Loss 0.0345\n",
            "Model improved. Saving model...\n",
            "Epoch 9: Loss 0.0300\n",
            "Model improved. Saving model...\n",
            "Epoch 10: Loss 0.0276\n",
            "Model improved. Saving model...\n",
            "Fold 4\n"
          ]
        },
        {
          "name": "stderr",
          "output_type": "stream",
          "text": [
            "Some weights of BertForSequenceClassification were not initialized from the model checkpoint at dbmdz/bert-base-turkish-cased and are newly initialized: ['classifier.bias', 'classifier.weight']\n",
            "You should probably TRAIN this model on a down-stream task to be able to use it for predictions and inference.\n"
          ]
        },
        {
          "name": "stdout",
          "output_type": "stream",
          "text": [
            "Epoch 1: Loss 3.1513\n",
            "Model improved. Saving model...\n",
            "Epoch 2: Loss 1.5710\n",
            "Model improved. Saving model...\n",
            "Epoch 3: Loss 0.5871\n",
            "Model improved. Saving model...\n",
            "Epoch 4: Loss 0.2347\n",
            "Model improved. Saving model...\n",
            "Epoch 5: Loss 0.1151\n",
            "Model improved. Saving model...\n",
            "Epoch 6: Loss 0.0641\n",
            "Model improved. Saving model...\n",
            "Epoch 7: Loss 0.0409\n",
            "Model improved. Saving model...\n",
            "Epoch 8: Loss 0.0334\n",
            "Model improved. Saving model...\n",
            "Epoch 9: Loss 0.0306\n",
            "Model improved. Saving model...\n",
            "Epoch 10: Loss 0.0288\n",
            "Model improved. Saving model...\n",
            "Fold 5\n"
          ]
        },
        {
          "name": "stderr",
          "output_type": "stream",
          "text": [
            "Some weights of BertForSequenceClassification were not initialized from the model checkpoint at dbmdz/bert-base-turkish-cased and are newly initialized: ['classifier.bias', 'classifier.weight']\n",
            "You should probably TRAIN this model on a down-stream task to be able to use it for predictions and inference.\n"
          ]
        },
        {
          "name": "stdout",
          "output_type": "stream",
          "text": [
            "Epoch 1: Loss 2.8975\n",
            "Model improved. Saving model...\n",
            "Epoch 2: Loss 1.4885\n",
            "Model improved. Saving model...\n",
            "Epoch 3: Loss 0.5812\n",
            "Model improved. Saving model...\n",
            "Epoch 4: Loss 0.1908\n",
            "Model improved. Saving model...\n",
            "Epoch 5: Loss 0.0850\n",
            "Model improved. Saving model...\n",
            "Epoch 6: Loss 0.0527\n",
            "Model improved. Saving model...\n",
            "Epoch 7: Loss 0.0392\n",
            "Model improved. Saving model...\n",
            "Epoch 8: Loss 0.0321\n",
            "Model improved. Saving model...\n",
            "Epoch 9: Loss 0.0290\n",
            "Model improved. Saving model...\n",
            "Epoch 10: Loss 0.0271\n",
            "Model improved. Saving model...\n"
          ]
        }
      ],
      "source": [
        "kf = KFold(n_splits=5, shuffle=True, random_state=42)\n",
        "all_reports = []\n",
        "\n",
        "for fold, (train_idx, test_idx) in enumerate(kf.split(df)):\n",
        "    print(f\"Fold {fold + 1}\")\n",
        "    train_texts, test_texts = df.iloc[train_idx]['cleaned_text'], df.iloc[test_idx]['cleaned_text']\n",
        "    train_labels, test_labels = df.iloc[train_idx]['author_label'], df.iloc[test_idx]['author_label']\n",
        "\n",
        "    train_dataset = TextDataset(train_texts.tolist(), train_labels.tolist())\n",
        "    test_dataset = TextDataset(test_texts.tolist(), test_labels.tolist())\n",
        "    train_dataloader = DataLoader(train_dataset, batch_size=8, shuffle=True)\n",
        "    test_dataloader = DataLoader(test_dataset, batch_size=8)\n",
        "\n",
        "    model = create_model(num_labels=len(df['author_label'].unique()))\n",
        "    optimizer = AdamW(model.parameters(), lr=5e-5)\n",
        "    loss_fn = CrossEntropyLoss()\n",
        "    scheduler = get_scheduler(\"linear\", optimizer=optimizer, num_warmup_steps=0, num_training_steps=10 * len(train_dataloader))\n",
        "\n",
        "    train_model(model, train_dataloader, optimizer, scheduler, loss_fn)\n",
        "    all_labels, all_preds = evaluate_model(model, test_dataloader)\n",
        "\n",
        "    report = classification_report(all_labels, all_preds, output_dict=True)\n",
        "    all_reports.append(report)"
      ]
    },
    {
      "cell_type": "code",
      "execution_count": 14,
      "metadata": {
        "colab": {
          "base_uri": "https://localhost:8080/"
        },
        "id": "ChldyG6dcmec",
        "outputId": "c1142111-6283-4a99-997c-82c954ff0012"
      },
      "outputs": [
        {
          "name": "stdout",
          "output_type": "stream",
          "text": [
            "Cross-validation average results:\n",
            "              precision    recall  f1-score\n",
            "0              0.967532  0.973333  0.969787\n",
            "1              0.852381  0.888039  0.864253\n",
            "10             0.973214  0.981818  0.976617\n",
            "11             0.879638  1.000000  0.932184\n",
            "12             1.000000  1.000000  1.000000\n",
            "13             1.000000  1.000000  1.000000\n",
            "14             0.772143  0.901984  0.830187\n",
            "15             0.946263  0.910000  0.921021\n",
            "16             0.985714  0.957778  0.970302\n",
            "17             0.934615  0.894017  0.909901\n",
            "18             1.000000  0.984615  0.992000\n",
            "19             0.966667  0.926667  0.943720\n",
            "2              0.944444  0.798088  0.843815\n",
            "20             0.933822  0.863095  0.894498\n",
            "21             1.000000  0.971429  0.984615\n",
            "22             0.886984  0.846429  0.857749\n",
            "23             0.971429  1.000000  0.984615\n",
            "24             0.950000  0.971429  0.960000\n",
            "25             1.000000  1.000000  1.000000\n",
            "26             0.950000  1.000000  0.973333\n",
            "27             1.000000  0.953247  0.975092\n",
            "28             0.911111  0.967532  0.936559\n",
            "29             0.883333  0.954762  0.914021\n",
            "3              0.970000  1.000000  0.983784\n",
            "4              0.977778  0.883802  0.924994\n",
            "5              0.963636  0.980000  0.969474\n",
            "6              1.000000  1.000000  1.000000\n",
            "7              0.977778  0.981818  0.978711\n",
            "8              0.906667  0.817143  0.843342\n",
            "9              0.897259  0.930032  0.912060\n",
            "macro avg      0.946747  0.944569  0.941554\n",
            "weighted avg   0.947855  0.941333  0.940442\n",
            "Results saved to /content/drive/MyDrive/4475/performance_results/cross_validation_mean_results.csv\n",
            "\n",
            "Transposed metrics (metrics as rows, classes as columns):\n",
            "                  0         1        10        11   12   13        14  \\\n",
            "precision  0.967532  0.852381  0.973214  0.879638  1.0  1.0  0.772143   \n",
            "recall     0.973333  0.888039  0.981818  1.000000  1.0  1.0  0.901984   \n",
            "f1-score   0.969787  0.864253  0.976617  0.932184  1.0  1.0  0.830187   \n",
            "\n",
            "                 15        16        17  ...        29         3         4  \\\n",
            "precision  0.946263  0.985714  0.934615  ...  0.883333  0.970000  0.977778   \n",
            "recall     0.910000  0.957778  0.894017  ...  0.954762  1.000000  0.883802   \n",
            "f1-score   0.921021  0.970302  0.909901  ...  0.914021  0.983784  0.924994   \n",
            "\n",
            "                  5    6         7         8         9  macro avg  \\\n",
            "precision  0.963636  1.0  0.977778  0.906667  0.897259   0.946747   \n",
            "recall     0.980000  1.0  0.981818  0.817143  0.930032   0.944569   \n",
            "f1-score   0.969474  1.0  0.978711  0.843342  0.912060   0.941554   \n",
            "\n",
            "           weighted avg  \n",
            "precision      0.947855  \n",
            "recall         0.941333  \n",
            "f1-score       0.940442  \n",
            "\n",
            "[3 rows x 32 columns]\n",
            "Transposed results saved to /content/drive/MyDrive/4475/performance_results/cross_validation_transposed_results.csv\n"
          ]
        }
      ],
      "source": [
        "# Ortalamaları hesapla\n",
        "fold_reports = []\n",
        "\n",
        "for report in all_reports:\n",
        "    df_report = pd.DataFrame(report).transpose()\n",
        "    relevant_scores = df_report.loc[[str(i) for i in range(len(df['author_label'].unique()))] + ['macro avg', 'weighted avg'], ['precision', 'recall', 'f1-score']]\n",
        "    fold_reports.append(relevant_scores)\n",
        "\n",
        "average_report = pd.concat(fold_reports).groupby(level=0).mean()\n",
        "\n",
        "# Ortalamaları yazdır ve kaydet\n",
        "os.makedirs(f\"{base_path}/performance_results\", exist_ok=True)\n",
        "print(\"Cross-validation average results:\")\n",
        "print(average_report)\n",
        "average_report.to_csv(f\"{base_path}/performance_results/cross_validation_mean_results.csv\")\n",
        "print(f\"Results saved to {base_path}/performance_results/cross_validation_mean_results.csv\")\n",
        "\n",
        "# Metrikleri transpoze et ve göster\n",
        "print(\"\\nTransposed metrics (metrics as rows, classes as columns):\")\n",
        "df_report_t = average_report[['precision', 'recall', 'f1-score']].transpose()\n",
        "print(df_report_t)\n",
        "\n",
        "# Transpoze edilmiş metrikleri kaydet\n",
        "df_report_t.to_csv(f\"{base_path}/performance_results/cross_validation_transposed_results.csv\")\n",
        "print(f\"Transposed results saved to {base_path}/performance_results/cross_validation_transposed_results.csv\")"
      ]
    },
    {
      "cell_type": "markdown",
      "metadata": {},
      "source": [
        "          weighted avg  \n",
        "precision      0.947855  \n",
        "recall         0.941333  \n",
        "f1-score       0.940442  "
      ]
    }
  ],
  "metadata": {
    "accelerator": "GPU",
    "colab": {
      "gpuType": "T4",
      "provenance": []
    },
    "kernelspec": {
      "display_name": "Python 3",
      "name": "python3"
    },
    "language_info": {
      "name": "python"
    },
    "widgets": {
      "application/vnd.jupyter.widget-state+json": {
        "091c43701f054c03bac534a1cec71d44": {
          "model_module": "@jupyter-widgets/controls",
          "model_module_version": "1.5.0",
          "model_name": "HBoxModel",
          "state": {
            "_dom_classes": [],
            "_model_module": "@jupyter-widgets/controls",
            "_model_module_version": "1.5.0",
            "_model_name": "HBoxModel",
            "_view_count": null,
            "_view_module": "@jupyter-widgets/controls",
            "_view_module_version": "1.5.0",
            "_view_name": "HBoxView",
            "box_style": "",
            "children": [
              "IPY_MODEL_d0fc3c40a86448ab92a3f7c5c7317833",
              "IPY_MODEL_2ea8c52b3dea4512a28e8ec55260777e",
              "IPY_MODEL_aaf0634cfcac40349a4909dacddaaeb2"
            ],
            "layout": "IPY_MODEL_41e1191421814d27b35b0089cace8f0c"
          }
        },
        "100cd81e0b304c068746460c270aba39": {
          "model_module": "@jupyter-widgets/base",
          "model_module_version": "1.2.0",
          "model_name": "LayoutModel",
          "state": {
            "_model_module": "@jupyter-widgets/base",
            "_model_module_version": "1.2.0",
            "_model_name": "LayoutModel",
            "_view_count": null,
            "_view_module": "@jupyter-widgets/base",
            "_view_module_version": "1.2.0",
            "_view_name": "LayoutView",
            "align_content": null,
            "align_items": null,
            "align_self": null,
            "border": null,
            "bottom": null,
            "display": null,
            "flex": null,
            "flex_flow": null,
            "grid_area": null,
            "grid_auto_columns": null,
            "grid_auto_flow": null,
            "grid_auto_rows": null,
            "grid_column": null,
            "grid_gap": null,
            "grid_row": null,
            "grid_template_areas": null,
            "grid_template_columns": null,
            "grid_template_rows": null,
            "height": null,
            "justify_content": null,
            "justify_items": null,
            "left": null,
            "margin": null,
            "max_height": null,
            "max_width": null,
            "min_height": null,
            "min_width": null,
            "object_fit": null,
            "object_position": null,
            "order": null,
            "overflow": null,
            "overflow_x": null,
            "overflow_y": null,
            "padding": null,
            "right": null,
            "top": null,
            "visibility": null,
            "width": null
          }
        },
        "1603c52167c1480182aeba1ed18f587d": {
          "model_module": "@jupyter-widgets/base",
          "model_module_version": "1.2.0",
          "model_name": "LayoutModel",
          "state": {
            "_model_module": "@jupyter-widgets/base",
            "_model_module_version": "1.2.0",
            "_model_name": "LayoutModel",
            "_view_count": null,
            "_view_module": "@jupyter-widgets/base",
            "_view_module_version": "1.2.0",
            "_view_name": "LayoutView",
            "align_content": null,
            "align_items": null,
            "align_self": null,
            "border": null,
            "bottom": null,
            "display": null,
            "flex": null,
            "flex_flow": null,
            "grid_area": null,
            "grid_auto_columns": null,
            "grid_auto_flow": null,
            "grid_auto_rows": null,
            "grid_column": null,
            "grid_gap": null,
            "grid_row": null,
            "grid_template_areas": null,
            "grid_template_columns": null,
            "grid_template_rows": null,
            "height": null,
            "justify_content": null,
            "justify_items": null,
            "left": null,
            "margin": null,
            "max_height": null,
            "max_width": null,
            "min_height": null,
            "min_width": null,
            "object_fit": null,
            "object_position": null,
            "order": null,
            "overflow": null,
            "overflow_x": null,
            "overflow_y": null,
            "padding": null,
            "right": null,
            "top": null,
            "visibility": null,
            "width": null
          }
        },
        "16fe4fb509b04b67b3f7a106c63b0247": {
          "model_module": "@jupyter-widgets/controls",
          "model_module_version": "1.5.0",
          "model_name": "HTMLModel",
          "state": {
            "_dom_classes": [],
            "_model_module": "@jupyter-widgets/controls",
            "_model_module_version": "1.5.0",
            "_model_name": "HTMLModel",
            "_view_count": null,
            "_view_module": "@jupyter-widgets/controls",
            "_view_module_version": "1.5.0",
            "_view_name": "HTMLView",
            "description": "",
            "description_tooltip": null,
            "layout": "IPY_MODEL_b78f1bbf8f6d401d8c0e926644c5f0b9",
            "placeholder": "​",
            "style": "IPY_MODEL_19afb68743064aefb0a9481c27636201",
            "value": " 60.0/60.0 [00:00&lt;00:00, 2.35kB/s]"
          }
        },
        "181e5497320b41cbadfe6499ed731655": {
          "model_module": "@jupyter-widgets/controls",
          "model_module_version": "1.5.0",
          "model_name": "FloatProgressModel",
          "state": {
            "_dom_classes": [],
            "_model_module": "@jupyter-widgets/controls",
            "_model_module_version": "1.5.0",
            "_model_name": "FloatProgressModel",
            "_view_count": null,
            "_view_module": "@jupyter-widgets/controls",
            "_view_module_version": "1.5.0",
            "_view_name": "ProgressView",
            "bar_style": "success",
            "description": "",
            "description_tooltip": null,
            "layout": "IPY_MODEL_9156c0c3452e4a6bbb35a4ce9221e0b8",
            "max": 251003,
            "min": 0,
            "orientation": "horizontal",
            "style": "IPY_MODEL_42094a3f82ba498b94b1dfa68a0c2a47",
            "value": 251003
          }
        },
        "19afb68743064aefb0a9481c27636201": {
          "model_module": "@jupyter-widgets/controls",
          "model_module_version": "1.5.0",
          "model_name": "DescriptionStyleModel",
          "state": {
            "_model_module": "@jupyter-widgets/controls",
            "_model_module_version": "1.5.0",
            "_model_name": "DescriptionStyleModel",
            "_view_count": null,
            "_view_module": "@jupyter-widgets/base",
            "_view_module_version": "1.2.0",
            "_view_name": "StyleView",
            "description_width": ""
          }
        },
        "2d190f96f84c4b46bf3dbe4447c482df": {
          "model_module": "@jupyter-widgets/base",
          "model_module_version": "1.2.0",
          "model_name": "LayoutModel",
          "state": {
            "_model_module": "@jupyter-widgets/base",
            "_model_module_version": "1.2.0",
            "_model_name": "LayoutModel",
            "_view_count": null,
            "_view_module": "@jupyter-widgets/base",
            "_view_module_version": "1.2.0",
            "_view_name": "LayoutView",
            "align_content": null,
            "align_items": null,
            "align_self": null,
            "border": null,
            "bottom": null,
            "display": null,
            "flex": null,
            "flex_flow": null,
            "grid_area": null,
            "grid_auto_columns": null,
            "grid_auto_flow": null,
            "grid_auto_rows": null,
            "grid_column": null,
            "grid_gap": null,
            "grid_row": null,
            "grid_template_areas": null,
            "grid_template_columns": null,
            "grid_template_rows": null,
            "height": null,
            "justify_content": null,
            "justify_items": null,
            "left": null,
            "margin": null,
            "max_height": null,
            "max_width": null,
            "min_height": null,
            "min_width": null,
            "object_fit": null,
            "object_position": null,
            "order": null,
            "overflow": null,
            "overflow_x": null,
            "overflow_y": null,
            "padding": null,
            "right": null,
            "top": null,
            "visibility": null,
            "width": null
          }
        },
        "2ea8c52b3dea4512a28e8ec55260777e": {
          "model_module": "@jupyter-widgets/controls",
          "model_module_version": "1.5.0",
          "model_name": "FloatProgressModel",
          "state": {
            "_dom_classes": [],
            "_model_module": "@jupyter-widgets/controls",
            "_model_module_version": "1.5.0",
            "_model_name": "FloatProgressModel",
            "_view_count": null,
            "_view_module": "@jupyter-widgets/controls",
            "_view_module_version": "1.5.0",
            "_view_name": "ProgressView",
            "bar_style": "success",
            "description": "",
            "description_tooltip": null,
            "layout": "IPY_MODEL_38702054ab8e46a79f392105b2ba7045",
            "max": 385,
            "min": 0,
            "orientation": "horizontal",
            "style": "IPY_MODEL_df1c8d5955b4464d853457c02e4ddc0e",
            "value": 385
          }
        },
        "30d9468de7f842719bcc24c1fe191cd0": {
          "model_module": "@jupyter-widgets/base",
          "model_module_version": "1.2.0",
          "model_name": "LayoutModel",
          "state": {
            "_model_module": "@jupyter-widgets/base",
            "_model_module_version": "1.2.0",
            "_model_name": "LayoutModel",
            "_view_count": null,
            "_view_module": "@jupyter-widgets/base",
            "_view_module_version": "1.2.0",
            "_view_name": "LayoutView",
            "align_content": null,
            "align_items": null,
            "align_self": null,
            "border": null,
            "bottom": null,
            "display": null,
            "flex": null,
            "flex_flow": null,
            "grid_area": null,
            "grid_auto_columns": null,
            "grid_auto_flow": null,
            "grid_auto_rows": null,
            "grid_column": null,
            "grid_gap": null,
            "grid_row": null,
            "grid_template_areas": null,
            "grid_template_columns": null,
            "grid_template_rows": null,
            "height": null,
            "justify_content": null,
            "justify_items": null,
            "left": null,
            "margin": null,
            "max_height": null,
            "max_width": null,
            "min_height": null,
            "min_width": null,
            "object_fit": null,
            "object_position": null,
            "order": null,
            "overflow": null,
            "overflow_x": null,
            "overflow_y": null,
            "padding": null,
            "right": null,
            "top": null,
            "visibility": null,
            "width": null
          }
        },
        "3432ca247a084212adfd0d93d16876df": {
          "model_module": "@jupyter-widgets/controls",
          "model_module_version": "1.5.0",
          "model_name": "ProgressStyleModel",
          "state": {
            "_model_module": "@jupyter-widgets/controls",
            "_model_module_version": "1.5.0",
            "_model_name": "ProgressStyleModel",
            "_view_count": null,
            "_view_module": "@jupyter-widgets/base",
            "_view_module_version": "1.2.0",
            "_view_name": "StyleView",
            "bar_color": null,
            "description_width": ""
          }
        },
        "3769b0a70509468488bcbdc53664e2b8": {
          "model_module": "@jupyter-widgets/base",
          "model_module_version": "1.2.0",
          "model_name": "LayoutModel",
          "state": {
            "_model_module": "@jupyter-widgets/base",
            "_model_module_version": "1.2.0",
            "_model_name": "LayoutModel",
            "_view_count": null,
            "_view_module": "@jupyter-widgets/base",
            "_view_module_version": "1.2.0",
            "_view_name": "LayoutView",
            "align_content": null,
            "align_items": null,
            "align_self": null,
            "border": null,
            "bottom": null,
            "display": null,
            "flex": null,
            "flex_flow": null,
            "grid_area": null,
            "grid_auto_columns": null,
            "grid_auto_flow": null,
            "grid_auto_rows": null,
            "grid_column": null,
            "grid_gap": null,
            "grid_row": null,
            "grid_template_areas": null,
            "grid_template_columns": null,
            "grid_template_rows": null,
            "height": null,
            "justify_content": null,
            "justify_items": null,
            "left": null,
            "margin": null,
            "max_height": null,
            "max_width": null,
            "min_height": null,
            "min_width": null,
            "object_fit": null,
            "object_position": null,
            "order": null,
            "overflow": null,
            "overflow_x": null,
            "overflow_y": null,
            "padding": null,
            "right": null,
            "top": null,
            "visibility": null,
            "width": null
          }
        },
        "38702054ab8e46a79f392105b2ba7045": {
          "model_module": "@jupyter-widgets/base",
          "model_module_version": "1.2.0",
          "model_name": "LayoutModel",
          "state": {
            "_model_module": "@jupyter-widgets/base",
            "_model_module_version": "1.2.0",
            "_model_name": "LayoutModel",
            "_view_count": null,
            "_view_module": "@jupyter-widgets/base",
            "_view_module_version": "1.2.0",
            "_view_name": "LayoutView",
            "align_content": null,
            "align_items": null,
            "align_self": null,
            "border": null,
            "bottom": null,
            "display": null,
            "flex": null,
            "flex_flow": null,
            "grid_area": null,
            "grid_auto_columns": null,
            "grid_auto_flow": null,
            "grid_auto_rows": null,
            "grid_column": null,
            "grid_gap": null,
            "grid_row": null,
            "grid_template_areas": null,
            "grid_template_columns": null,
            "grid_template_rows": null,
            "height": null,
            "justify_content": null,
            "justify_items": null,
            "left": null,
            "margin": null,
            "max_height": null,
            "max_width": null,
            "min_height": null,
            "min_width": null,
            "object_fit": null,
            "object_position": null,
            "order": null,
            "overflow": null,
            "overflow_x": null,
            "overflow_y": null,
            "padding": null,
            "right": null,
            "top": null,
            "visibility": null,
            "width": null
          }
        },
        "3e31fcf31bd043dbb1f6d6931dae1181": {
          "model_module": "@jupyter-widgets/base",
          "model_module_version": "1.2.0",
          "model_name": "LayoutModel",
          "state": {
            "_model_module": "@jupyter-widgets/base",
            "_model_module_version": "1.2.0",
            "_model_name": "LayoutModel",
            "_view_count": null,
            "_view_module": "@jupyter-widgets/base",
            "_view_module_version": "1.2.0",
            "_view_name": "LayoutView",
            "align_content": null,
            "align_items": null,
            "align_self": null,
            "border": null,
            "bottom": null,
            "display": null,
            "flex": null,
            "flex_flow": null,
            "grid_area": null,
            "grid_auto_columns": null,
            "grid_auto_flow": null,
            "grid_auto_rows": null,
            "grid_column": null,
            "grid_gap": null,
            "grid_row": null,
            "grid_template_areas": null,
            "grid_template_columns": null,
            "grid_template_rows": null,
            "height": null,
            "justify_content": null,
            "justify_items": null,
            "left": null,
            "margin": null,
            "max_height": null,
            "max_width": null,
            "min_height": null,
            "min_width": null,
            "object_fit": null,
            "object_position": null,
            "order": null,
            "overflow": null,
            "overflow_x": null,
            "overflow_y": null,
            "padding": null,
            "right": null,
            "top": null,
            "visibility": null,
            "width": null
          }
        },
        "41b10fefc73f427b963ddd9b3c002e53": {
          "model_module": "@jupyter-widgets/controls",
          "model_module_version": "1.5.0",
          "model_name": "HBoxModel",
          "state": {
            "_dom_classes": [],
            "_model_module": "@jupyter-widgets/controls",
            "_model_module_version": "1.5.0",
            "_model_name": "HBoxModel",
            "_view_count": null,
            "_view_module": "@jupyter-widgets/controls",
            "_view_module_version": "1.5.0",
            "_view_name": "HBoxView",
            "box_style": "",
            "children": [
              "IPY_MODEL_9aeda67e79bd480b83cc89007e902e3e",
              "IPY_MODEL_b93b6992689746e696f876c812006ebc",
              "IPY_MODEL_16fe4fb509b04b67b3f7a106c63b0247"
            ],
            "layout": "IPY_MODEL_3769b0a70509468488bcbdc53664e2b8"
          }
        },
        "41e1191421814d27b35b0089cace8f0c": {
          "model_module": "@jupyter-widgets/base",
          "model_module_version": "1.2.0",
          "model_name": "LayoutModel",
          "state": {
            "_model_module": "@jupyter-widgets/base",
            "_model_module_version": "1.2.0",
            "_model_name": "LayoutModel",
            "_view_count": null,
            "_view_module": "@jupyter-widgets/base",
            "_view_module_version": "1.2.0",
            "_view_name": "LayoutView",
            "align_content": null,
            "align_items": null,
            "align_self": null,
            "border": null,
            "bottom": null,
            "display": null,
            "flex": null,
            "flex_flow": null,
            "grid_area": null,
            "grid_auto_columns": null,
            "grid_auto_flow": null,
            "grid_auto_rows": null,
            "grid_column": null,
            "grid_gap": null,
            "grid_row": null,
            "grid_template_areas": null,
            "grid_template_columns": null,
            "grid_template_rows": null,
            "height": null,
            "justify_content": null,
            "justify_items": null,
            "left": null,
            "margin": null,
            "max_height": null,
            "max_width": null,
            "min_height": null,
            "min_width": null,
            "object_fit": null,
            "object_position": null,
            "order": null,
            "overflow": null,
            "overflow_x": null,
            "overflow_y": null,
            "padding": null,
            "right": null,
            "top": null,
            "visibility": null,
            "width": null
          }
        },
        "42094a3f82ba498b94b1dfa68a0c2a47": {
          "model_module": "@jupyter-widgets/controls",
          "model_module_version": "1.5.0",
          "model_name": "ProgressStyleModel",
          "state": {
            "_model_module": "@jupyter-widgets/controls",
            "_model_module_version": "1.5.0",
            "_model_name": "ProgressStyleModel",
            "_view_count": null,
            "_view_module": "@jupyter-widgets/base",
            "_view_module_version": "1.2.0",
            "_view_name": "StyleView",
            "bar_color": null,
            "description_width": ""
          }
        },
        "538baf9f34ab4ef184ae11635cb42e69": {
          "model_module": "@jupyter-widgets/controls",
          "model_module_version": "1.5.0",
          "model_name": "DescriptionStyleModel",
          "state": {
            "_model_module": "@jupyter-widgets/controls",
            "_model_module_version": "1.5.0",
            "_model_name": "DescriptionStyleModel",
            "_view_count": null,
            "_view_module": "@jupyter-widgets/base",
            "_view_module_version": "1.2.0",
            "_view_name": "StyleView",
            "description_width": ""
          }
        },
        "5664667bb6104b87aa2546e52bf4c7da": {
          "model_module": "@jupyter-widgets/controls",
          "model_module_version": "1.5.0",
          "model_name": "HTMLModel",
          "state": {
            "_dom_classes": [],
            "_model_module": "@jupyter-widgets/controls",
            "_model_module_version": "1.5.0",
            "_model_name": "HTMLModel",
            "_view_count": null,
            "_view_module": "@jupyter-widgets/controls",
            "_view_module_version": "1.5.0",
            "_view_name": "HTMLView",
            "description": "",
            "description_tooltip": null,
            "layout": "IPY_MODEL_e806ae1ed6ab44ec9b299957ac37209f",
            "placeholder": "​",
            "style": "IPY_MODEL_538baf9f34ab4ef184ae11635cb42e69",
            "value": "vocab.txt: 100%"
          }
        },
        "724941c1340a48ad8fc5f6425c2de105": {
          "model_module": "@jupyter-widgets/base",
          "model_module_version": "1.2.0",
          "model_name": "LayoutModel",
          "state": {
            "_model_module": "@jupyter-widgets/base",
            "_model_module_version": "1.2.0",
            "_model_name": "LayoutModel",
            "_view_count": null,
            "_view_module": "@jupyter-widgets/base",
            "_view_module_version": "1.2.0",
            "_view_name": "LayoutView",
            "align_content": null,
            "align_items": null,
            "align_self": null,
            "border": null,
            "bottom": null,
            "display": null,
            "flex": null,
            "flex_flow": null,
            "grid_area": null,
            "grid_auto_columns": null,
            "grid_auto_flow": null,
            "grid_auto_rows": null,
            "grid_column": null,
            "grid_gap": null,
            "grid_row": null,
            "grid_template_areas": null,
            "grid_template_columns": null,
            "grid_template_rows": null,
            "height": null,
            "justify_content": null,
            "justify_items": null,
            "left": null,
            "margin": null,
            "max_height": null,
            "max_width": null,
            "min_height": null,
            "min_width": null,
            "object_fit": null,
            "object_position": null,
            "order": null,
            "overflow": null,
            "overflow_x": null,
            "overflow_y": null,
            "padding": null,
            "right": null,
            "top": null,
            "visibility": null,
            "width": null
          }
        },
        "81b04c43145040008165fab494e3e2a6": {
          "model_module": "@jupyter-widgets/controls",
          "model_module_version": "1.5.0",
          "model_name": "DescriptionStyleModel",
          "state": {
            "_model_module": "@jupyter-widgets/controls",
            "_model_module_version": "1.5.0",
            "_model_name": "DescriptionStyleModel",
            "_view_count": null,
            "_view_module": "@jupyter-widgets/base",
            "_view_module_version": "1.2.0",
            "_view_name": "StyleView",
            "description_width": ""
          }
        },
        "829c3df32fd2436896f94e64de06d369": {
          "model_module": "@jupyter-widgets/controls",
          "model_module_version": "1.5.0",
          "model_name": "FloatProgressModel",
          "state": {
            "_dom_classes": [],
            "_model_module": "@jupyter-widgets/controls",
            "_model_module_version": "1.5.0",
            "_model_name": "FloatProgressModel",
            "_view_count": null,
            "_view_module": "@jupyter-widgets/controls",
            "_view_module_version": "1.5.0",
            "_view_name": "ProgressView",
            "bar_style": "success",
            "description": "",
            "description_tooltip": null,
            "layout": "IPY_MODEL_1603c52167c1480182aeba1ed18f587d",
            "max": 444996256,
            "min": 0,
            "orientation": "horizontal",
            "style": "IPY_MODEL_fdd90602ce464917a0c81de78d105ba3",
            "value": 444996256
          }
        },
        "8dbbd61481484052a4e5ddd31a6838e5": {
          "model_module": "@jupyter-widgets/controls",
          "model_module_version": "1.5.0",
          "model_name": "DescriptionStyleModel",
          "state": {
            "_model_module": "@jupyter-widgets/controls",
            "_model_module_version": "1.5.0",
            "_model_name": "DescriptionStyleModel",
            "_view_count": null,
            "_view_module": "@jupyter-widgets/base",
            "_view_module_version": "1.2.0",
            "_view_name": "StyleView",
            "description_width": ""
          }
        },
        "9156c0c3452e4a6bbb35a4ce9221e0b8": {
          "model_module": "@jupyter-widgets/base",
          "model_module_version": "1.2.0",
          "model_name": "LayoutModel",
          "state": {
            "_model_module": "@jupyter-widgets/base",
            "_model_module_version": "1.2.0",
            "_model_name": "LayoutModel",
            "_view_count": null,
            "_view_module": "@jupyter-widgets/base",
            "_view_module_version": "1.2.0",
            "_view_name": "LayoutView",
            "align_content": null,
            "align_items": null,
            "align_self": null,
            "border": null,
            "bottom": null,
            "display": null,
            "flex": null,
            "flex_flow": null,
            "grid_area": null,
            "grid_auto_columns": null,
            "grid_auto_flow": null,
            "grid_auto_rows": null,
            "grid_column": null,
            "grid_gap": null,
            "grid_row": null,
            "grid_template_areas": null,
            "grid_template_columns": null,
            "grid_template_rows": null,
            "height": null,
            "justify_content": null,
            "justify_items": null,
            "left": null,
            "margin": null,
            "max_height": null,
            "max_width": null,
            "min_height": null,
            "min_width": null,
            "object_fit": null,
            "object_position": null,
            "order": null,
            "overflow": null,
            "overflow_x": null,
            "overflow_y": null,
            "padding": null,
            "right": null,
            "top": null,
            "visibility": null,
            "width": null
          }
        },
        "9aeda67e79bd480b83cc89007e902e3e": {
          "model_module": "@jupyter-widgets/controls",
          "model_module_version": "1.5.0",
          "model_name": "HTMLModel",
          "state": {
            "_dom_classes": [],
            "_model_module": "@jupyter-widgets/controls",
            "_model_module_version": "1.5.0",
            "_model_name": "HTMLModel",
            "_view_count": null,
            "_view_module": "@jupyter-widgets/controls",
            "_view_module_version": "1.5.0",
            "_view_name": "HTMLView",
            "description": "",
            "description_tooltip": null,
            "layout": "IPY_MODEL_3e31fcf31bd043dbb1f6d6931dae1181",
            "placeholder": "​",
            "style": "IPY_MODEL_cdcaf921f20349f49c8eebbbe16cf9c3",
            "value": "tokenizer_config.json: 100%"
          }
        },
        "a49500d13b3d4523bc367e1d73765243": {
          "model_module": "@jupyter-widgets/controls",
          "model_module_version": "1.5.0",
          "model_name": "HBoxModel",
          "state": {
            "_dom_classes": [],
            "_model_module": "@jupyter-widgets/controls",
            "_model_module_version": "1.5.0",
            "_model_name": "HBoxModel",
            "_view_count": null,
            "_view_module": "@jupyter-widgets/controls",
            "_view_module_version": "1.5.0",
            "_view_name": "HBoxView",
            "box_style": "",
            "children": [
              "IPY_MODEL_c035a697d5b84653834bb2b633e55aae",
              "IPY_MODEL_829c3df32fd2436896f94e64de06d369",
              "IPY_MODEL_e6bb241bbc964bb887e55d5d15200fcd"
            ],
            "layout": "IPY_MODEL_30d9468de7f842719bcc24c1fe191cd0"
          }
        },
        "aaf0634cfcac40349a4909dacddaaeb2": {
          "model_module": "@jupyter-widgets/controls",
          "model_module_version": "1.5.0",
          "model_name": "HTMLModel",
          "state": {
            "_dom_classes": [],
            "_model_module": "@jupyter-widgets/controls",
            "_model_module_version": "1.5.0",
            "_model_name": "HTMLModel",
            "_view_count": null,
            "_view_module": "@jupyter-widgets/controls",
            "_view_module_version": "1.5.0",
            "_view_name": "HTMLView",
            "description": "",
            "description_tooltip": null,
            "layout": "IPY_MODEL_c458b88ab544465e9a0d800638f36143",
            "placeholder": "​",
            "style": "IPY_MODEL_ba97241e8d744d7eb0e0e9fb13095982",
            "value": " 385/385 [00:00&lt;00:00, 34.7kB/s]"
          }
        },
        "b1a1dc9d4f994e1c83fd84c1d074040e": {
          "model_module": "@jupyter-widgets/controls",
          "model_module_version": "1.5.0",
          "model_name": "HTMLModel",
          "state": {
            "_dom_classes": [],
            "_model_module": "@jupyter-widgets/controls",
            "_model_module_version": "1.5.0",
            "_model_name": "HTMLModel",
            "_view_count": null,
            "_view_module": "@jupyter-widgets/controls",
            "_view_module_version": "1.5.0",
            "_view_name": "HTMLView",
            "description": "",
            "description_tooltip": null,
            "layout": "IPY_MODEL_c79507ed81d744c89cd89accf65b71c3",
            "placeholder": "​",
            "style": "IPY_MODEL_d6c73e194b7c46e6a6c9a656b006f3bf",
            "value": " 251k/251k [00:00&lt;00:00, 1.94MB/s]"
          }
        },
        "b3b8845b2fa947bd96f1c8f68878aee1": {
          "model_module": "@jupyter-widgets/controls",
          "model_module_version": "1.5.0",
          "model_name": "DescriptionStyleModel",
          "state": {
            "_model_module": "@jupyter-widgets/controls",
            "_model_module_version": "1.5.0",
            "_model_name": "DescriptionStyleModel",
            "_view_count": null,
            "_view_module": "@jupyter-widgets/base",
            "_view_module_version": "1.2.0",
            "_view_name": "StyleView",
            "description_width": ""
          }
        },
        "b78f1bbf8f6d401d8c0e926644c5f0b9": {
          "model_module": "@jupyter-widgets/base",
          "model_module_version": "1.2.0",
          "model_name": "LayoutModel",
          "state": {
            "_model_module": "@jupyter-widgets/base",
            "_model_module_version": "1.2.0",
            "_model_name": "LayoutModel",
            "_view_count": null,
            "_view_module": "@jupyter-widgets/base",
            "_view_module_version": "1.2.0",
            "_view_name": "LayoutView",
            "align_content": null,
            "align_items": null,
            "align_self": null,
            "border": null,
            "bottom": null,
            "display": null,
            "flex": null,
            "flex_flow": null,
            "grid_area": null,
            "grid_auto_columns": null,
            "grid_auto_flow": null,
            "grid_auto_rows": null,
            "grid_column": null,
            "grid_gap": null,
            "grid_row": null,
            "grid_template_areas": null,
            "grid_template_columns": null,
            "grid_template_rows": null,
            "height": null,
            "justify_content": null,
            "justify_items": null,
            "left": null,
            "margin": null,
            "max_height": null,
            "max_width": null,
            "min_height": null,
            "min_width": null,
            "object_fit": null,
            "object_position": null,
            "order": null,
            "overflow": null,
            "overflow_x": null,
            "overflow_y": null,
            "padding": null,
            "right": null,
            "top": null,
            "visibility": null,
            "width": null
          }
        },
        "b93b6992689746e696f876c812006ebc": {
          "model_module": "@jupyter-widgets/controls",
          "model_module_version": "1.5.0",
          "model_name": "FloatProgressModel",
          "state": {
            "_dom_classes": [],
            "_model_module": "@jupyter-widgets/controls",
            "_model_module_version": "1.5.0",
            "_model_name": "FloatProgressModel",
            "_view_count": null,
            "_view_module": "@jupyter-widgets/controls",
            "_view_module_version": "1.5.0",
            "_view_name": "ProgressView",
            "bar_style": "success",
            "description": "",
            "description_tooltip": null,
            "layout": "IPY_MODEL_2d190f96f84c4b46bf3dbe4447c482df",
            "max": 60,
            "min": 0,
            "orientation": "horizontal",
            "style": "IPY_MODEL_3432ca247a084212adfd0d93d16876df",
            "value": 60
          }
        },
        "ba97241e8d744d7eb0e0e9fb13095982": {
          "model_module": "@jupyter-widgets/controls",
          "model_module_version": "1.5.0",
          "model_name": "DescriptionStyleModel",
          "state": {
            "_model_module": "@jupyter-widgets/controls",
            "_model_module_version": "1.5.0",
            "_model_name": "DescriptionStyleModel",
            "_view_count": null,
            "_view_module": "@jupyter-widgets/base",
            "_view_module_version": "1.2.0",
            "_view_name": "StyleView",
            "description_width": ""
          }
        },
        "bdbccd55a21641b48809821dc325a931": {
          "model_module": "@jupyter-widgets/base",
          "model_module_version": "1.2.0",
          "model_name": "LayoutModel",
          "state": {
            "_model_module": "@jupyter-widgets/base",
            "_model_module_version": "1.2.0",
            "_model_name": "LayoutModel",
            "_view_count": null,
            "_view_module": "@jupyter-widgets/base",
            "_view_module_version": "1.2.0",
            "_view_name": "LayoutView",
            "align_content": null,
            "align_items": null,
            "align_self": null,
            "border": null,
            "bottom": null,
            "display": null,
            "flex": null,
            "flex_flow": null,
            "grid_area": null,
            "grid_auto_columns": null,
            "grid_auto_flow": null,
            "grid_auto_rows": null,
            "grid_column": null,
            "grid_gap": null,
            "grid_row": null,
            "grid_template_areas": null,
            "grid_template_columns": null,
            "grid_template_rows": null,
            "height": null,
            "justify_content": null,
            "justify_items": null,
            "left": null,
            "margin": null,
            "max_height": null,
            "max_width": null,
            "min_height": null,
            "min_width": null,
            "object_fit": null,
            "object_position": null,
            "order": null,
            "overflow": null,
            "overflow_x": null,
            "overflow_y": null,
            "padding": null,
            "right": null,
            "top": null,
            "visibility": null,
            "width": null
          }
        },
        "c035a697d5b84653834bb2b633e55aae": {
          "model_module": "@jupyter-widgets/controls",
          "model_module_version": "1.5.0",
          "model_name": "HTMLModel",
          "state": {
            "_dom_classes": [],
            "_model_module": "@jupyter-widgets/controls",
            "_model_module_version": "1.5.0",
            "_model_name": "HTMLModel",
            "_view_count": null,
            "_view_module": "@jupyter-widgets/controls",
            "_view_module_version": "1.5.0",
            "_view_name": "HTMLView",
            "description": "",
            "description_tooltip": null,
            "layout": "IPY_MODEL_bdbccd55a21641b48809821dc325a931",
            "placeholder": "​",
            "style": "IPY_MODEL_81b04c43145040008165fab494e3e2a6",
            "value": "model.safetensors: 100%"
          }
        },
        "c458b88ab544465e9a0d800638f36143": {
          "model_module": "@jupyter-widgets/base",
          "model_module_version": "1.2.0",
          "model_name": "LayoutModel",
          "state": {
            "_model_module": "@jupyter-widgets/base",
            "_model_module_version": "1.2.0",
            "_model_name": "LayoutModel",
            "_view_count": null,
            "_view_module": "@jupyter-widgets/base",
            "_view_module_version": "1.2.0",
            "_view_name": "LayoutView",
            "align_content": null,
            "align_items": null,
            "align_self": null,
            "border": null,
            "bottom": null,
            "display": null,
            "flex": null,
            "flex_flow": null,
            "grid_area": null,
            "grid_auto_columns": null,
            "grid_auto_flow": null,
            "grid_auto_rows": null,
            "grid_column": null,
            "grid_gap": null,
            "grid_row": null,
            "grid_template_areas": null,
            "grid_template_columns": null,
            "grid_template_rows": null,
            "height": null,
            "justify_content": null,
            "justify_items": null,
            "left": null,
            "margin": null,
            "max_height": null,
            "max_width": null,
            "min_height": null,
            "min_width": null,
            "object_fit": null,
            "object_position": null,
            "order": null,
            "overflow": null,
            "overflow_x": null,
            "overflow_y": null,
            "padding": null,
            "right": null,
            "top": null,
            "visibility": null,
            "width": null
          }
        },
        "c79507ed81d744c89cd89accf65b71c3": {
          "model_module": "@jupyter-widgets/base",
          "model_module_version": "1.2.0",
          "model_name": "LayoutModel",
          "state": {
            "_model_module": "@jupyter-widgets/base",
            "_model_module_version": "1.2.0",
            "_model_name": "LayoutModel",
            "_view_count": null,
            "_view_module": "@jupyter-widgets/base",
            "_view_module_version": "1.2.0",
            "_view_name": "LayoutView",
            "align_content": null,
            "align_items": null,
            "align_self": null,
            "border": null,
            "bottom": null,
            "display": null,
            "flex": null,
            "flex_flow": null,
            "grid_area": null,
            "grid_auto_columns": null,
            "grid_auto_flow": null,
            "grid_auto_rows": null,
            "grid_column": null,
            "grid_gap": null,
            "grid_row": null,
            "grid_template_areas": null,
            "grid_template_columns": null,
            "grid_template_rows": null,
            "height": null,
            "justify_content": null,
            "justify_items": null,
            "left": null,
            "margin": null,
            "max_height": null,
            "max_width": null,
            "min_height": null,
            "min_width": null,
            "object_fit": null,
            "object_position": null,
            "order": null,
            "overflow": null,
            "overflow_x": null,
            "overflow_y": null,
            "padding": null,
            "right": null,
            "top": null,
            "visibility": null,
            "width": null
          }
        },
        "cdcaf921f20349f49c8eebbbe16cf9c3": {
          "model_module": "@jupyter-widgets/controls",
          "model_module_version": "1.5.0",
          "model_name": "DescriptionStyleModel",
          "state": {
            "_model_module": "@jupyter-widgets/controls",
            "_model_module_version": "1.5.0",
            "_model_name": "DescriptionStyleModel",
            "_view_count": null,
            "_view_module": "@jupyter-widgets/base",
            "_view_module_version": "1.2.0",
            "_view_name": "StyleView",
            "description_width": ""
          }
        },
        "d0fc3c40a86448ab92a3f7c5c7317833": {
          "model_module": "@jupyter-widgets/controls",
          "model_module_version": "1.5.0",
          "model_name": "HTMLModel",
          "state": {
            "_dom_classes": [],
            "_model_module": "@jupyter-widgets/controls",
            "_model_module_version": "1.5.0",
            "_model_name": "HTMLModel",
            "_view_count": null,
            "_view_module": "@jupyter-widgets/controls",
            "_view_module_version": "1.5.0",
            "_view_name": "HTMLView",
            "description": "",
            "description_tooltip": null,
            "layout": "IPY_MODEL_100cd81e0b304c068746460c270aba39",
            "placeholder": "​",
            "style": "IPY_MODEL_8dbbd61481484052a4e5ddd31a6838e5",
            "value": "config.json: 100%"
          }
        },
        "d6c73e194b7c46e6a6c9a656b006f3bf": {
          "model_module": "@jupyter-widgets/controls",
          "model_module_version": "1.5.0",
          "model_name": "DescriptionStyleModel",
          "state": {
            "_model_module": "@jupyter-widgets/controls",
            "_model_module_version": "1.5.0",
            "_model_name": "DescriptionStyleModel",
            "_view_count": null,
            "_view_module": "@jupyter-widgets/base",
            "_view_module_version": "1.2.0",
            "_view_name": "StyleView",
            "description_width": ""
          }
        },
        "d9bdf1f000d14d83bbfb2832b61d2526": {
          "model_module": "@jupyter-widgets/base",
          "model_module_version": "1.2.0",
          "model_name": "LayoutModel",
          "state": {
            "_model_module": "@jupyter-widgets/base",
            "_model_module_version": "1.2.0",
            "_model_name": "LayoutModel",
            "_view_count": null,
            "_view_module": "@jupyter-widgets/base",
            "_view_module_version": "1.2.0",
            "_view_name": "LayoutView",
            "align_content": null,
            "align_items": null,
            "align_self": null,
            "border": null,
            "bottom": null,
            "display": null,
            "flex": null,
            "flex_flow": null,
            "grid_area": null,
            "grid_auto_columns": null,
            "grid_auto_flow": null,
            "grid_auto_rows": null,
            "grid_column": null,
            "grid_gap": null,
            "grid_row": null,
            "grid_template_areas": null,
            "grid_template_columns": null,
            "grid_template_rows": null,
            "height": null,
            "justify_content": null,
            "justify_items": null,
            "left": null,
            "margin": null,
            "max_height": null,
            "max_width": null,
            "min_height": null,
            "min_width": null,
            "object_fit": null,
            "object_position": null,
            "order": null,
            "overflow": null,
            "overflow_x": null,
            "overflow_y": null,
            "padding": null,
            "right": null,
            "top": null,
            "visibility": null,
            "width": null
          }
        },
        "df1c8d5955b4464d853457c02e4ddc0e": {
          "model_module": "@jupyter-widgets/controls",
          "model_module_version": "1.5.0",
          "model_name": "ProgressStyleModel",
          "state": {
            "_model_module": "@jupyter-widgets/controls",
            "_model_module_version": "1.5.0",
            "_model_name": "ProgressStyleModel",
            "_view_count": null,
            "_view_module": "@jupyter-widgets/base",
            "_view_module_version": "1.2.0",
            "_view_name": "StyleView",
            "bar_color": null,
            "description_width": ""
          }
        },
        "e6bb241bbc964bb887e55d5d15200fcd": {
          "model_module": "@jupyter-widgets/controls",
          "model_module_version": "1.5.0",
          "model_name": "HTMLModel",
          "state": {
            "_dom_classes": [],
            "_model_module": "@jupyter-widgets/controls",
            "_model_module_version": "1.5.0",
            "_model_name": "HTMLModel",
            "_view_count": null,
            "_view_module": "@jupyter-widgets/controls",
            "_view_module_version": "1.5.0",
            "_view_name": "HTMLView",
            "description": "",
            "description_tooltip": null,
            "layout": "IPY_MODEL_724941c1340a48ad8fc5f6425c2de105",
            "placeholder": "​",
            "style": "IPY_MODEL_b3b8845b2fa947bd96f1c8f68878aee1",
            "value": " 445M/445M [00:02&lt;00:00, 176MB/s]"
          }
        },
        "e806ae1ed6ab44ec9b299957ac37209f": {
          "model_module": "@jupyter-widgets/base",
          "model_module_version": "1.2.0",
          "model_name": "LayoutModel",
          "state": {
            "_model_module": "@jupyter-widgets/base",
            "_model_module_version": "1.2.0",
            "_model_name": "LayoutModel",
            "_view_count": null,
            "_view_module": "@jupyter-widgets/base",
            "_view_module_version": "1.2.0",
            "_view_name": "LayoutView",
            "align_content": null,
            "align_items": null,
            "align_self": null,
            "border": null,
            "bottom": null,
            "display": null,
            "flex": null,
            "flex_flow": null,
            "grid_area": null,
            "grid_auto_columns": null,
            "grid_auto_flow": null,
            "grid_auto_rows": null,
            "grid_column": null,
            "grid_gap": null,
            "grid_row": null,
            "grid_template_areas": null,
            "grid_template_columns": null,
            "grid_template_rows": null,
            "height": null,
            "justify_content": null,
            "justify_items": null,
            "left": null,
            "margin": null,
            "max_height": null,
            "max_width": null,
            "min_height": null,
            "min_width": null,
            "object_fit": null,
            "object_position": null,
            "order": null,
            "overflow": null,
            "overflow_x": null,
            "overflow_y": null,
            "padding": null,
            "right": null,
            "top": null,
            "visibility": null,
            "width": null
          }
        },
        "fb9b457ea0f449198d9596e8be4d400a": {
          "model_module": "@jupyter-widgets/controls",
          "model_module_version": "1.5.0",
          "model_name": "HBoxModel",
          "state": {
            "_dom_classes": [],
            "_model_module": "@jupyter-widgets/controls",
            "_model_module_version": "1.5.0",
            "_model_name": "HBoxModel",
            "_view_count": null,
            "_view_module": "@jupyter-widgets/controls",
            "_view_module_version": "1.5.0",
            "_view_name": "HBoxView",
            "box_style": "",
            "children": [
              "IPY_MODEL_5664667bb6104b87aa2546e52bf4c7da",
              "IPY_MODEL_181e5497320b41cbadfe6499ed731655",
              "IPY_MODEL_b1a1dc9d4f994e1c83fd84c1d074040e"
            ],
            "layout": "IPY_MODEL_d9bdf1f000d14d83bbfb2832b61d2526"
          }
        },
        "fdd90602ce464917a0c81de78d105ba3": {
          "model_module": "@jupyter-widgets/controls",
          "model_module_version": "1.5.0",
          "model_name": "ProgressStyleModel",
          "state": {
            "_model_module": "@jupyter-widgets/controls",
            "_model_module_version": "1.5.0",
            "_model_name": "ProgressStyleModel",
            "_view_count": null,
            "_view_module": "@jupyter-widgets/base",
            "_view_module_version": "1.2.0",
            "_view_name": "StyleView",
            "bar_color": null,
            "description_width": ""
          }
        }
      }
    }
  },
  "nbformat": 4,
  "nbformat_minor": 0
}
